{
 "cells": [
  {
   "cell_type": "code",
   "execution_count": null,
   "id": "74aa2639-6012-4604-8de6-34b9c93b9efe",
   "metadata": {},
   "outputs": [],
   "source": []
  }
 ],
 "metadata": {
  "kernelspec": {
   "display_name": "",
   "name": ""
  },
  "language_info": {
   "name": ""
  }
 },
 "nbformat": 4,
 "nbformat_minor": 5
}
